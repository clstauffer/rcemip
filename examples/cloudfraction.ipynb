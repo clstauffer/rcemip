{
 "cells": [
  {
   "cell_type": "code",
   "execution_count": null,
   "source": [
    "# import libraries\n",
    "import numpy as np\n",
    "import xarray as xr\n",
    "import cloudfraction\n",
    "import matplotlib.pyplot as plt"
   ],
   "outputs": [],
   "metadata": {}
  },
  {
   "cell_type": "markdown",
   "source": [
    "## Calculate cloud fraction"
   ],
   "metadata": {}
  },
  {
   "cell_type": "code",
   "execution_count": null,
   "source": [
    "# extract data from 3D model output that can be found on DKRZ\n",
    "ds = xr.open_dataset('/path/to/3D/output/SAM_CRM_RCE_large295_3D_0000720000.nc',decode_times=False)\n",
    "cw = np.squeeze(ds['clw'].values) # g/g\n",
    "ci = np.squeeze(ds['cli'].values) # g/g\n",
    "ta = np.squeeze(ds['ta'].values)  # K\n",
    "pa = np.squeeze(ds['pa'].values)  # Pa\n",
    "z = np.squeeze(ds['z'].values)    # m\n",
    "ds.close()\n",
    "\n",
    "# calculate cfv1 and cfv2\n",
    "cldv1,cldv2=cloudfraction.cloudfraction(cw,ci,ta,pa)\n",
    "del cw,ci,ta,pa\n",
    "\n",
    "# domain average for 1D profiles\n",
    "cldv1   = np.squeeze(np.nanmean(cldv1,axis=(1,2))) # unitless\n",
    "cldv2   = np.squeeze(np.nanmean(cldv2,axis=(1,2))) # unitless\n",
    "\n",
    "# post-processed 1D profiles from 1D output\n",
    "ds = xr.open_dataset('/path/to/postprocess/1D/profiles/SAM-CRM_large295_1D-profiles.nc',decode_times=False)\n",
    "# cfv0 profile and height\n",
    "cldv0 = np.squeeze(ds['cfv0_avg'].values)\n",
    "zgv0 = np.squeeze(ds['zg_avg'].values)\n",
    "# SAM-CRM colors\n",
    "cr = np.squeeze(ds['Cr'].values)\n",
    "cg = np.squeeze(ds['Cg'].values)\n",
    "cb = np.squeeze(ds['Cb'].values)\n",
    "ca = np.squeeze(ds['Ca'].values)\n",
    "ds.close()"
   ],
   "outputs": [],
   "metadata": {}
  },
  {
   "cell_type": "code",
   "execution_count": null,
   "source": [
    "# plot sample profile \n",
    "plt.figure(figsize=(4,8))\n",
    "plt.plot(cldv0,zgv0,color=[cr,cg,cb,ca],linewidth=2,linestyle='-',label='cfv0')\n",
    "plt.plot(cldv1,z/1000,color=[cr,cg,cb,ca],linewidth=2,linestyle='--',label='cfv1')\n",
    "plt.plot(cldv2,z/1000,color=[cr,cg,cb,ca],linewidth=2,linestyle=':',label='cfv2')\n",
    "plt.ylim(0,20)\n",
    "plt.xlim(0,0.15)\n",
    "plt.title('SAM-CRM RCE_large 295 K Day 100')\n",
    "plt.legend()\n",
    "plt.show()"
   ],
   "outputs": [],
   "metadata": {}
  },
  {
   "cell_type": "markdown",
   "source": [
    "## Find cloud fraction max"
   ],
   "metadata": {}
  },
  {
   "cell_type": "code",
   "execution_count": null,
   "source": [],
   "outputs": [],
   "metadata": {}
  }
 ],
 "metadata": {
  "orig_nbformat": 4,
  "language_info": {
   "name": "python",
   "version": "3.7.3",
   "mimetype": "text/x-python",
   "codemirror_mode": {
    "name": "ipython",
    "version": 3
   },
   "pygments_lexer": "ipython3",
   "nbconvert_exporter": "python",
   "file_extension": ".py"
  },
  "kernelspec": {
   "name": "python3",
   "display_name": "Python 3.7.3 64-bit ('cls': conda)"
  },
  "interpreter": {
   "hash": "d00295ae0f52549e6e56105ed96418b3f05c855930b05ce2a0b4093cdcdd86d6"
  }
 },
 "nbformat": 4,
 "nbformat_minor": 2
